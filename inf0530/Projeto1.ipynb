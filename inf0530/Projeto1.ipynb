{
 "cells": [
  {
   "cell_type": "markdown",
   "id": "63e4c733-255f-4658-af78-d230d878d316",
   "metadata": {},
   "source": [
    "# Projeto"
   ]
  },
  {
   "cell_type": "markdown",
   "id": "dd189ef7-9e45-40be-872a-6383f25c4efb",
   "metadata": {},
   "source": [
    "**Detecção de Ataques utilizando Redes Neurais em Ambientes de Internet das Coisas**\n",
    "\n"
   ]
  },
  {
   "cell_type": "markdown",
   "id": "4886f5fc-0693-4ed8-9922-d02c346005da",
   "metadata": {},
   "source": [
    "- **Aluno**: Guilherme Rodriguez Vicentin\n",
    "- **Email**: vicentingr@gmail.com"
   ]
  },
  {
   "cell_type": "markdown",
   "id": "83e38101-4b2a-4c3b-a313-86623228e2d5",
   "metadata": {},
   "source": [
    "## Importação dos dados"
   ]
  },
  {
   "cell_type": "code",
   "execution_count": 19,
   "id": "ddcf46f5-4c30-4070-90a9-1f0aeed92e23",
   "metadata": {},
   "outputs": [
    {
     "data": {
      "text/html": [
       "<div>\n",
       "<style scoped>\n",
       "    .dataframe tbody tr th:only-of-type {\n",
       "        vertical-align: middle;\n",
       "    }\n",
       "\n",
       "    .dataframe tbody tr th {\n",
       "        vertical-align: top;\n",
       "    }\n",
       "\n",
       "    .dataframe thead th {\n",
       "        text-align: right;\n",
       "    }\n",
       "</style>\n",
       "<table border=\"1\" class=\"dataframe\">\n",
       "  <thead>\n",
       "    <tr style=\"text-align: right;\">\n",
       "      <th></th>\n",
       "      <th>proto</th>\n",
       "      <th>saddr</th>\n",
       "      <th>sport</th>\n",
       "      <th>daddr</th>\n",
       "      <th>dport</th>\n",
       "      <th>seq</th>\n",
       "      <th>stddev</th>\n",
       "      <th>N_IN_Conn_P_SrcIP</th>\n",
       "      <th>min</th>\n",
       "      <th>state_number</th>\n",
       "      <th>mean</th>\n",
       "      <th>N_IN_Conn_P_DstIP</th>\n",
       "      <th>drate</th>\n",
       "      <th>srate</th>\n",
       "      <th>max</th>\n",
       "      <th>attack</th>\n",
       "      <th>category</th>\n",
       "      <th>subcategory</th>\n",
       "    </tr>\n",
       "  </thead>\n",
       "  <tbody>\n",
       "    <tr>\n",
       "      <th>0</th>\n",
       "      <td>tcp</td>\n",
       "      <td>192.168.100.147</td>\n",
       "      <td>49960</td>\n",
       "      <td>192.168.100.7</td>\n",
       "      <td>80</td>\n",
       "      <td>9</td>\n",
       "      <td>0.068909</td>\n",
       "      <td>75</td>\n",
       "      <td>0.000000</td>\n",
       "      <td>1</td>\n",
       "      <td>0.068909</td>\n",
       "      <td>96</td>\n",
       "      <td>14.511893</td>\n",
       "      <td>0.566862</td>\n",
       "      <td>0.137818</td>\n",
       "      <td>1</td>\n",
       "      <td>DoS</td>\n",
       "      <td>HTTP</td>\n",
       "    </tr>\n",
       "    <tr>\n",
       "      <th>1</th>\n",
       "      <td>arp</td>\n",
       "      <td>192.168.100.7</td>\n",
       "      <td>-1</td>\n",
       "      <td>192.168.100.147</td>\n",
       "      <td>-1</td>\n",
       "      <td>10</td>\n",
       "      <td>0.000000</td>\n",
       "      <td>2</td>\n",
       "      <td>0.000131</td>\n",
       "      <td>2</td>\n",
       "      <td>0.000131</td>\n",
       "      <td>1</td>\n",
       "      <td>0.000000</td>\n",
       "      <td>0.000000</td>\n",
       "      <td>0.000131</td>\n",
       "      <td>1</td>\n",
       "      <td>DoS</td>\n",
       "      <td>HTTP</td>\n",
       "    </tr>\n",
       "    <tr>\n",
       "      <th>2</th>\n",
       "      <td>tcp</td>\n",
       "      <td>192.168.100.147</td>\n",
       "      <td>49962</td>\n",
       "      <td>192.168.100.7</td>\n",
       "      <td>80</td>\n",
       "      <td>11</td>\n",
       "      <td>0.064494</td>\n",
       "      <td>75</td>\n",
       "      <td>0.000000</td>\n",
       "      <td>1</td>\n",
       "      <td>0.064494</td>\n",
       "      <td>96</td>\n",
       "      <td>15.505319</td>\n",
       "      <td>0.567549</td>\n",
       "      <td>0.128988</td>\n",
       "      <td>1</td>\n",
       "      <td>DoS</td>\n",
       "      <td>HTTP</td>\n",
       "    </tr>\n",
       "    <tr>\n",
       "      <th>3</th>\n",
       "      <td>tcp</td>\n",
       "      <td>192.168.100.147</td>\n",
       "      <td>49964</td>\n",
       "      <td>192.168.100.7</td>\n",
       "      <td>80</td>\n",
       "      <td>12</td>\n",
       "      <td>0.064189</td>\n",
       "      <td>75</td>\n",
       "      <td>0.000000</td>\n",
       "      <td>1</td>\n",
       "      <td>0.064189</td>\n",
       "      <td>96</td>\n",
       "      <td>15.578993</td>\n",
       "      <td>0.567570</td>\n",
       "      <td>0.128378</td>\n",
       "      <td>1</td>\n",
       "      <td>DoS</td>\n",
       "      <td>HTTP</td>\n",
       "    </tr>\n",
       "    <tr>\n",
       "      <th>4</th>\n",
       "      <td>tcp</td>\n",
       "      <td>192.168.100.147</td>\n",
       "      <td>49966</td>\n",
       "      <td>192.168.100.7</td>\n",
       "      <td>80</td>\n",
       "      <td>13</td>\n",
       "      <td>0.063887</td>\n",
       "      <td>75</td>\n",
       "      <td>0.000000</td>\n",
       "      <td>1</td>\n",
       "      <td>0.063887</td>\n",
       "      <td>96</td>\n",
       "      <td>15.652637</td>\n",
       "      <td>0.567630</td>\n",
       "      <td>0.127774</td>\n",
       "      <td>1</td>\n",
       "      <td>DoS</td>\n",
       "      <td>HTTP</td>\n",
       "    </tr>\n",
       "  </tbody>\n",
       "</table>\n",
       "</div>"
      ],
      "text/plain": [
       "  proto            saddr  sport            daddr dport  seq    stddev  \\\n",
       "0   tcp  192.168.100.147  49960    192.168.100.7    80    9  0.068909   \n",
       "1   arp    192.168.100.7     -1  192.168.100.147    -1   10  0.000000   \n",
       "2   tcp  192.168.100.147  49962    192.168.100.7    80   11  0.064494   \n",
       "3   tcp  192.168.100.147  49964    192.168.100.7    80   12  0.064189   \n",
       "4   tcp  192.168.100.147  49966    192.168.100.7    80   13  0.063887   \n",
       "\n",
       "   N_IN_Conn_P_SrcIP       min  state_number      mean  N_IN_Conn_P_DstIP  \\\n",
       "0                 75  0.000000             1  0.068909                 96   \n",
       "1                  2  0.000131             2  0.000131                  1   \n",
       "2                 75  0.000000             1  0.064494                 96   \n",
       "3                 75  0.000000             1  0.064189                 96   \n",
       "4                 75  0.000000             1  0.063887                 96   \n",
       "\n",
       "       drate     srate       max  attack category subcategory  \n",
       "0  14.511893  0.566862  0.137818       1      DoS        HTTP  \n",
       "1   0.000000  0.000000  0.000131       1      DoS        HTTP  \n",
       "2  15.505319  0.567549  0.128988       1      DoS        HTTP  \n",
       "3  15.578993  0.567570  0.128378       1      DoS        HTTP  \n",
       "4  15.652637  0.567630  0.127774       1      DoS        HTTP  "
      ]
     },
     "execution_count": 19,
     "metadata": {},
     "output_type": "execute_result"
    }
   ],
   "source": [
    "import pandas as pd\n",
    "\n",
    "df = pd.read_csv('UNSW_2018_IoT_Botnet_Final_10_Best.csv', delimiter=';', encoding='ISO-8859-1', low_memory=False)\n",
    "\n",
    "# Remover qualquer coluna que começa com Unnamed\n",
    "df = df.loc[:, ~df.columns.str.contains('^Unnamed')]\n",
    "\n",
    "# Removendo o pkSeqID\n",
    "df = df.drop(columns=['pkSeqID'])\n",
    "\n",
    "df.head()"
   ]
  },
  {
   "cell_type": "markdown",
   "id": "0a58c730-8d16-403e-aa21-4a4f213b0ff3",
   "metadata": {},
   "source": [
    "Agora iremos pegar aleatoriamente 30% dos dados"
   ]
  },
  {
   "cell_type": "code",
   "execution_count": 20,
   "id": "2b93de65-b6f6-44ed-82dc-9eb4e72b13bd",
   "metadata": {},
   "outputs": [
    {
     "data": {
      "text/html": [
       "<div>\n",
       "<style scoped>\n",
       "    .dataframe tbody tr th:only-of-type {\n",
       "        vertical-align: middle;\n",
       "    }\n",
       "\n",
       "    .dataframe tbody tr th {\n",
       "        vertical-align: top;\n",
       "    }\n",
       "\n",
       "    .dataframe thead th {\n",
       "        text-align: right;\n",
       "    }\n",
       "</style>\n",
       "<table border=\"1\" class=\"dataframe\">\n",
       "  <thead>\n",
       "    <tr style=\"text-align: right;\">\n",
       "      <th></th>\n",
       "      <th>proto</th>\n",
       "      <th>saddr</th>\n",
       "      <th>sport</th>\n",
       "      <th>daddr</th>\n",
       "      <th>dport</th>\n",
       "      <th>seq</th>\n",
       "      <th>stddev</th>\n",
       "      <th>N_IN_Conn_P_SrcIP</th>\n",
       "      <th>min</th>\n",
       "      <th>state_number</th>\n",
       "      <th>mean</th>\n",
       "      <th>N_IN_Conn_P_DstIP</th>\n",
       "      <th>drate</th>\n",
       "      <th>srate</th>\n",
       "      <th>max</th>\n",
       "      <th>attack</th>\n",
       "      <th>category</th>\n",
       "      <th>subcategory</th>\n",
       "    </tr>\n",
       "  </thead>\n",
       "  <tbody>\n",
       "    <tr>\n",
       "      <th>3615054</th>\n",
       "      <td>tcp</td>\n",
       "      <td>192.168.100.149</td>\n",
       "      <td>34662</td>\n",
       "      <td>192.168.100.3</td>\n",
       "      <td>3306</td>\n",
       "      <td>20481</td>\n",
       "      <td>0.000000</td>\n",
       "      <td>24</td>\n",
       "      <td>0.199696</td>\n",
       "      <td>6</td>\n",
       "      <td>0.199696</td>\n",
       "      <td>100</td>\n",
       "      <td>25.038057</td>\n",
       "      <td>30.045670</td>\n",
       "      <td>0.199696</td>\n",
       "      <td>1</td>\n",
       "      <td>Reconnaissance</td>\n",
       "      <td>Service_Scan</td>\n",
       "    </tr>\n",
       "    <tr>\n",
       "      <th>912034</th>\n",
       "      <td>udp</td>\n",
       "      <td>192.168.100.147</td>\n",
       "      <td>38821</td>\n",
       "      <td>192.168.100.7</td>\n",
       "      <td>80</td>\n",
       "      <td>32601</td>\n",
       "      <td>0.449179</td>\n",
       "      <td>100</td>\n",
       "      <td>1.380450</td>\n",
       "      <td>4</td>\n",
       "      <td>2.384421</td>\n",
       "      <td>100</td>\n",
       "      <td>0.000000</td>\n",
       "      <td>0.404534</td>\n",
       "      <td>2.605609</td>\n",
       "      <td>1</td>\n",
       "      <td>DoS</td>\n",
       "      <td>UDP</td>\n",
       "    </tr>\n",
       "    <tr>\n",
       "      <th>2576453</th>\n",
       "      <td>tcp</td>\n",
       "      <td>192.168.100.148</td>\n",
       "      <td>22525</td>\n",
       "      <td>192.168.100.3</td>\n",
       "      <td>80</td>\n",
       "      <td>138767</td>\n",
       "      <td>0.102594</td>\n",
       "      <td>80</td>\n",
       "      <td>0.000000</td>\n",
       "      <td>1</td>\n",
       "      <td>0.051297</td>\n",
       "      <td>100</td>\n",
       "      <td>0.000000</td>\n",
       "      <td>0.113870</td>\n",
       "      <td>0.256485</td>\n",
       "      <td>1</td>\n",
       "      <td>DDoS</td>\n",
       "      <td>TCP</td>\n",
       "    </tr>\n",
       "    <tr>\n",
       "      <th>158995</th>\n",
       "      <td>tcp</td>\n",
       "      <td>192.168.100.147</td>\n",
       "      <td>57998</td>\n",
       "      <td>192.168.100.7</td>\n",
       "      <td>80</td>\n",
       "      <td>157519</td>\n",
       "      <td>0.000000</td>\n",
       "      <td>100</td>\n",
       "      <td>0.000000</td>\n",
       "      <td>3</td>\n",
       "      <td>0.000000</td>\n",
       "      <td>100</td>\n",
       "      <td>0.000000</td>\n",
       "      <td>0.121890</td>\n",
       "      <td>0.000000</td>\n",
       "      <td>1</td>\n",
       "      <td>DoS</td>\n",
       "      <td>TCP</td>\n",
       "    </tr>\n",
       "    <tr>\n",
       "      <th>86970</th>\n",
       "      <td>tcp</td>\n",
       "      <td>192.168.100.150</td>\n",
       "      <td>12239</td>\n",
       "      <td>192.168.100.3</td>\n",
       "      <td>80</td>\n",
       "      <td>85494</td>\n",
       "      <td>0.030978</td>\n",
       "      <td>44</td>\n",
       "      <td>0.059693</td>\n",
       "      <td>1</td>\n",
       "      <td>0.090670</td>\n",
       "      <td>44</td>\n",
       "      <td>0.039643</td>\n",
       "      <td>0.118930</td>\n",
       "      <td>0.121648</td>\n",
       "      <td>1</td>\n",
       "      <td>DoS</td>\n",
       "      <td>TCP</td>\n",
       "    </tr>\n",
       "  </tbody>\n",
       "</table>\n",
       "</div>"
      ],
      "text/plain": [
       "        proto            saddr  sport          daddr dport     seq    stddev  \\\n",
       "3615054   tcp  192.168.100.149  34662  192.168.100.3  3306   20481  0.000000   \n",
       "912034    udp  192.168.100.147  38821  192.168.100.7    80   32601  0.449179   \n",
       "2576453   tcp  192.168.100.148  22525  192.168.100.3    80  138767  0.102594   \n",
       "158995    tcp  192.168.100.147  57998  192.168.100.7    80  157519  0.000000   \n",
       "86970     tcp  192.168.100.150  12239  192.168.100.3    80   85494  0.030978   \n",
       "\n",
       "         N_IN_Conn_P_SrcIP       min  state_number      mean  \\\n",
       "3615054                 24  0.199696             6  0.199696   \n",
       "912034                 100  1.380450             4  2.384421   \n",
       "2576453                 80  0.000000             1  0.051297   \n",
       "158995                 100  0.000000             3  0.000000   \n",
       "86970                   44  0.059693             1  0.090670   \n",
       "\n",
       "         N_IN_Conn_P_DstIP      drate      srate       max  attack  \\\n",
       "3615054                100  25.038057  30.045670  0.199696       1   \n",
       "912034                 100   0.000000   0.404534  2.605609       1   \n",
       "2576453                100   0.000000   0.113870  0.256485       1   \n",
       "158995                 100   0.000000   0.121890  0.000000       1   \n",
       "86970                   44   0.039643   0.118930  0.121648       1   \n",
       "\n",
       "               category   subcategory  \n",
       "3615054  Reconnaissance  Service_Scan  \n",
       "912034              DoS           UDP  \n",
       "2576453            DDoS           TCP  \n",
       "158995              DoS           TCP  \n",
       "86970               DoS           TCP  "
      ]
     },
     "execution_count": 20,
     "metadata": {},
     "output_type": "execute_result"
    }
   ],
   "source": [
    "df_sampled = df.sample(frac=0.3, random_state=1)\n",
    "\n",
    "df_sampled.head()"
   ]
  },
  {
   "cell_type": "markdown",
   "id": "3acd78ec-1540-4e56-be44-0ffdd1cf139f",
   "metadata": {},
   "source": [
    "## Análise inicial e pré-processamento"
   ]
  },
  {
   "cell_type": "code",
   "execution_count": 3,
   "id": "7c5fc770-dfb6-44a5-8499-a2816ba30898",
   "metadata": {},
   "outputs": [
    {
     "name": "stdout",
     "output_type": "stream",
     "text": [
      "Listando tipo dos atributos:\n",
      "proto                 object\n",
      "saddr                 object\n",
      "sport                 object\n",
      "daddr                 object\n",
      "dport                 object\n",
      "seq                    int64\n",
      "stddev               float64\n",
      "N_IN_Conn_P_SrcIP      int64\n",
      "min                  float64\n",
      "state_number           int64\n",
      "mean                 float64\n",
      "N_IN_Conn_P_DstIP      int64\n",
      "drate                float64\n",
      "srate                float64\n",
      "max                  float64\n",
      "attack                 int64\n",
      "category              object\n",
      "subcategory           object\n",
      "dtype: object\n"
     ]
    }
   ],
   "source": [
    "print(\"Listando tipo dos atributos:\")\n",
    "print(df.dtypes)\n"
   ]
  },
  {
   "cell_type": "code",
   "execution_count": 4,
   "id": "34c9a58b-15ee-4a30-ad97-9aac564157d0",
   "metadata": {},
   "outputs": [
    {
     "name": "stdout",
     "output_type": "stream",
     "text": [
      "Valores nulos em cada coluna:\n",
      "proto                0\n",
      "saddr                0\n",
      "sport                0\n",
      "daddr                0\n",
      "dport                0\n",
      "seq                  0\n",
      "stddev               0\n",
      "N_IN_Conn_P_SrcIP    0\n",
      "min                  0\n",
      "state_number         0\n",
      "mean                 0\n",
      "N_IN_Conn_P_DstIP    0\n",
      "drate                0\n",
      "srate                0\n",
      "max                  0\n",
      "attack               0\n",
      "category             0\n",
      "subcategory          0\n",
      "dtype: int64\n"
     ]
    }
   ],
   "source": [
    "null_counts = df.isnull().sum()\n",
    "print(\"Valores nulos em cada coluna:\")\n",
    "print(null_counts)"
   ]
  },
  {
   "cell_type": "code",
   "execution_count": 5,
   "id": "f73fe454-36d1-4af9-84ea-b8a5ec9d078d",
   "metadata": {},
   "outputs": [
    {
     "name": "stdout",
     "output_type": "stream",
     "text": [
      "Contagem por categorias:\n",
      "category\n",
      "DDoS              1926624\n",
      "DoS               1650260\n",
      "Reconnaissance      91082\n",
      "Normal                477\n",
      "Theft                  79\n",
      "Name: count, dtype: int64\n"
     ]
    }
   ],
   "source": [
    "category_count = df['category'].value_counts()\n",
    "print('Contagem por categorias:')\n",
    "print(category_count)"
   ]
  },
  {
   "cell_type": "code",
   "execution_count": 60,
   "id": "0de784d5-bede-4446-b562-77114165a366",
   "metadata": {},
   "outputs": [
    {
     "data": {
      "image/png": "[encoded data removed]",
      "text/plain": [
       "<Figure size 1000x600 with 1 Axes>"
      ]
     },
     "metadata": {},
     "output_type": "display_data"
    }
   ],
   "source": [
    "import matplotlib.pyplot as plt\n",
    "import seaborn as sns\n",
    "\n",
    "cat_percentage = category_count / category_count.sum() * 100\n",
    "\n",
    "plt.figure(figsize=(10, 6))\n",
    "sns.barplot(x=cat_percentage.index, y=cat_percentage.values, palette='viridis', hue=cat_percentage.values)\n",
    "plt.title('Porcentagem de Dados por Categoria')\n",
    "plt.xlabel('Categoria')\n",
    "plt.ylabel('Porcentagem')\n",
    "plt.xticks(rotation=45)\n",
    "plt.show()"
   ]
  },
  {
   "cell_type": "markdown",
   "id": "1697a45f-6c38-4f91-9742-6c9d55fba9b8",
   "metadata": {},
   "source": [
    "### Encoding"
   ]
  },
  {
   "cell_type": "code",
   "execution_count": 21,
   "id": "9aa2a0bd-3d9e-4dce-a922-29e35d754e23",
   "metadata": {},
   "outputs": [],
   "source": [
    "from sklearn.preprocessing import LabelEncoder\n",
    "\n",
    "obj_columns = ['proto', 'saddr', 'sport', 'daddr', 'dport', 'category', 'subcategory']\n",
    "\n",
    "label_encoder = LabelEncoder()\n",
    "\n",
    "for col in obj_columns:\n",
    "    df_sampled[col] = label_encoder.fit_transform(df_sampled[col])"
   ]
  },
  {
   "cell_type": "code",
   "execution_count": 71,
   "id": "8ec00306-f184-4fdd-8fcb-404854b7ff4b",
   "metadata": {},
   "outputs": [
    {
     "data": {
      "text/html": [
       "<div>\n",
       "<style scoped>\n",
       "    .dataframe tbody tr th:only-of-type {\n",
       "        vertical-align: middle;\n",
       "    }\n",
       "\n",
       "    .dataframe tbody tr th {\n",
       "        vertical-align: top;\n",
       "    }\n",
       "\n",
       "    .dataframe thead th {\n",
       "        text-align: right;\n",
       "    }\n",
       "</style>\n",
       "<table border=\"1\" class=\"dataframe\">\n",
       "  <thead>\n",
       "    <tr style=\"text-align: right;\">\n",
       "      <th></th>\n",
       "      <th>proto</th>\n",
       "      <th>saddr</th>\n",
       "      <th>sport</th>\n",
       "      <th>daddr</th>\n",
       "      <th>dport</th>\n",
       "      <th>seq</th>\n",
       "      <th>stddev</th>\n",
       "      <th>N_IN_Conn_P_SrcIP</th>\n",
       "      <th>min</th>\n",
       "      <th>state_number</th>\n",
       "      <th>mean</th>\n",
       "      <th>N_IN_Conn_P_DstIP</th>\n",
       "      <th>drate</th>\n",
       "      <th>srate</th>\n",
       "      <th>max</th>\n",
       "      <th>attack</th>\n",
       "      <th>category</th>\n",
       "      <th>subcategory</th>\n",
       "    </tr>\n",
       "  </thead>\n",
       "  <tbody>\n",
       "    <tr>\n",
       "      <th>3615054</th>\n",
       "      <td>3</td>\n",
       "      <td>3</td>\n",
       "      <td>27410</td>\n",
       "      <td>12</td>\n",
       "      <td>2352</td>\n",
       "      <td>20481</td>\n",
       "      <td>0.000000</td>\n",
       "      <td>24</td>\n",
       "      <td>0.199696</td>\n",
       "      <td>6</td>\n",
       "      <td>0.199696</td>\n",
       "      <td>100</td>\n",
       "      <td>25.038057</td>\n",
       "      <td>30.045670</td>\n",
       "      <td>0.199696</td>\n",
       "      <td>1</td>\n",
       "      <td>3</td>\n",
       "      <td>4</td>\n",
       "    </tr>\n",
       "    <tr>\n",
       "      <th>912034</th>\n",
       "      <td>4</td>\n",
       "      <td>1</td>\n",
       "      <td>32031</td>\n",
       "      <td>16</td>\n",
       "      <td>4241</td>\n",
       "      <td>32601</td>\n",
       "      <td>0.449179</td>\n",
       "      <td>100</td>\n",
       "      <td>1.380450</td>\n",
       "      <td>4</td>\n",
       "      <td>2.384421</td>\n",
       "      <td>100</td>\n",
       "      <td>0.000000</td>\n",
       "      <td>0.404534</td>\n",
       "      <td>2.605609</td>\n",
       "      <td>1</td>\n",
       "      <td>1</td>\n",
       "      <td>6</td>\n",
       "    </tr>\n",
       "    <tr>\n",
       "      <th>2576453</th>\n",
       "      <td>3</td>\n",
       "      <td>2</td>\n",
       "      <td>13925</td>\n",
       "      <td>12</td>\n",
       "      <td>4241</td>\n",
       "      <td>138767</td>\n",
       "      <td>0.102594</td>\n",
       "      <td>80</td>\n",
       "      <td>0.000000</td>\n",
       "      <td>1</td>\n",
       "      <td>0.051297</td>\n",
       "      <td>100</td>\n",
       "      <td>0.000000</td>\n",
       "      <td>0.113870</td>\n",
       "      <td>0.256485</td>\n",
       "      <td>1</td>\n",
       "      <td>0</td>\n",
       "      <td>5</td>\n",
       "    </tr>\n",
       "    <tr>\n",
       "      <th>158995</th>\n",
       "      <td>3</td>\n",
       "      <td>1</td>\n",
       "      <td>53337</td>\n",
       "      <td>16</td>\n",
       "      <td>4241</td>\n",
       "      <td>157519</td>\n",
       "      <td>0.000000</td>\n",
       "      <td>100</td>\n",
       "      <td>0.000000</td>\n",
       "      <td>3</td>\n",
       "      <td>0.000000</td>\n",
       "      <td>100</td>\n",
       "      <td>0.000000</td>\n",
       "      <td>0.121890</td>\n",
       "      <td>0.000000</td>\n",
       "      <td>1</td>\n",
       "      <td>1</td>\n",
       "      <td>5</td>\n",
       "    </tr>\n",
       "    <tr>\n",
       "      <th>86970</th>\n",
       "      <td>3</td>\n",
       "      <td>4</td>\n",
       "      <td>2496</td>\n",
       "      <td>12</td>\n",
       "      <td>4241</td>\n",
       "      <td>85494</td>\n",
       "      <td>0.030978</td>\n",
       "      <td>44</td>\n",
       "      <td>0.059693</td>\n",
       "      <td>1</td>\n",
       "      <td>0.090670</td>\n",
       "      <td>44</td>\n",
       "      <td>0.039643</td>\n",
       "      <td>0.118930</td>\n",
       "      <td>0.121648</td>\n",
       "      <td>1</td>\n",
       "      <td>1</td>\n",
       "      <td>5</td>\n",
       "    </tr>\n",
       "  </tbody>\n",
       "</table>\n",
       "</div>"
      ],
      "text/plain": [
       "         proto  saddr  sport  daddr  dport     seq    stddev  \\\n",
       "3615054      3      3  27410     12   2352   20481  0.000000   \n",
       "912034       4      1  32031     16   4241   32601  0.449179   \n",
       "2576453      3      2  13925     12   4241  138767  0.102594   \n",
       "158995       3      1  53337     16   4241  157519  0.000000   \n",
       "86970        3      4   2496     12   4241   85494  0.030978   \n",
       "\n",
       "         N_IN_Conn_P_SrcIP       min  state_number      mean  \\\n",
       "3615054                 24  0.199696             6  0.199696   \n",
       "912034                 100  1.380450             4  2.384421   \n",
       "2576453                 80  0.000000             1  0.051297   \n",
       "158995                 100  0.000000             3  0.000000   \n",
       "86970                   44  0.059693             1  0.090670   \n",
       "\n",
       "         N_IN_Conn_P_DstIP      drate      srate       max  attack  category  \\\n",
       "3615054                100  25.038057  30.045670  0.199696       1         3   \n",
       "912034                 100   0.000000   0.404534  2.605609       1         1   \n",
       "2576453                100   0.000000   0.113870  0.256485       1         0   \n",
       "158995                 100   0.000000   0.121890  0.000000       1         1   \n",
       "86970                   44   0.039643   0.118930  0.121648       1         1   \n",
       "\n",
       "         subcategory  \n",
       "3615054            4  \n",
       "912034             6  \n",
       "2576453            5  \n",
       "158995             5  \n",
       "86970              5  "
      ]
     },
     "execution_count": 71,
     "metadata": {},
     "output_type": "execute_result"
    }
   ],
   "source": [
    "df_sampled.head()"
   ]
  },
  {
   "cell_type": "markdown",
   "id": "e37bb15e-ca90-4842-a567-04f6249bd225",
   "metadata": {},
   "source": [
    "### Balanceamento"
   ]
  },
  {
   "cell_type": "markdown",
   "id": "109a65c4-ddf0-4e6e-9da8-a5734f076e78",
   "metadata": {},
   "source": [
    "Queremos garantir que cada classe em um conjunto de dados tenha aproximadamente o mesmo número de exemplos"
   ]
  },
  {
   "cell_type": "code",
   "execution_count": 22,
   "id": "04aaa2ad-f6c4-4b88-84b3-d11f84f831ac",
   "metadata": {},
   "outputs": [
    {
     "name": "stdout",
     "output_type": "stream",
     "text": [
      "Distribuição das classes antes do SMOTE:\n",
      " category\n",
      "0    578406\n",
      "1    495049\n",
      "3     26932\n",
      "2       153\n",
      "4        17\n",
      "Name: count, dtype: int64\n",
      "Distribuição das classes após o SMOTE:\n",
      " category\n",
      "3    578406\n",
      "1    578406\n",
      "0    578406\n",
      "2    578406\n",
      "4    578406\n",
      "Name: count, dtype: int64\n"
     ]
    }
   ],
   "source": [
    "from imblearn.over_sampling import SMOTE\n",
    "\n",
    "# Separar características e rótulos\n",
    "X = df_sampled.drop(columns=['category'])\n",
    "y = df_sampled['category']\n",
    "\n",
    "# Aplicar SMOTE para balancear as classes\n",
    "smote = SMOTE(random_state=42)\n",
    "X_resampled, y_resampled = smote.fit_resample(X, y)\n",
    "\n",
    "# Verificar o balanceamento das classes\n",
    "print(\"Distribuição das classes antes do SMOTE:\\n\", y.value_counts())\n",
    "print(\"Distribuição das classes após o SMOTE:\\n\", pd.Series(y_resampled).value_counts())"
   ]
  },
  {
   "cell_type": "markdown",
   "id": "43b6d000-888b-4c9e-a4a2-6087124aba7f",
   "metadata": {},
   "source": [
    "### Definição da classe alvo"
   ]
  },
  {
   "cell_type": "code",
   "execution_count": 23,
   "id": "0dfdce8f-14fe-4b69-ab3c-84c7cb720056",
   "metadata": {},
   "outputs": [],
   "source": [
    "y = df_sampled['attack']\n",
    "X = df_sampled.drop('attack', axis=1)"
   ]
  },
  {
   "cell_type": "code",
   "execution_count": 27,
   "id": "71a7f469-9d23-4c24-ad2c-94fb6d647fae",
   "metadata": {},
   "outputs": [
    {
     "data": {
      "text/html": [
       "<div>\n",
       "<style scoped>\n",
       "    .dataframe tbody tr th:only-of-type {\n",
       "        vertical-align: middle;\n",
       "    }\n",
       "\n",
       "    .dataframe tbody tr th {\n",
       "        vertical-align: top;\n",
       "    }\n",
       "\n",
       "    .dataframe thead th {\n",
       "        text-align: right;\n",
       "    }\n",
       "</style>\n",
       "<table border=\"1\" class=\"dataframe\">\n",
       "  <thead>\n",
       "    <tr style=\"text-align: right;\">\n",
       "      <th></th>\n",
       "      <th>proto</th>\n",
       "      <th>saddr</th>\n",
       "      <th>sport</th>\n",
       "      <th>daddr</th>\n",
       "      <th>dport</th>\n",
       "      <th>seq</th>\n",
       "      <th>stddev</th>\n",
       "      <th>N_IN_Conn_P_SrcIP</th>\n",
       "      <th>min</th>\n",
       "      <th>state_number</th>\n",
       "      <th>mean</th>\n",
       "      <th>N_IN_Conn_P_DstIP</th>\n",
       "      <th>drate</th>\n",
       "      <th>srate</th>\n",
       "      <th>max</th>\n",
       "      <th>category</th>\n",
       "      <th>subcategory</th>\n",
       "    </tr>\n",
       "  </thead>\n",
       "  <tbody>\n",
       "    <tr>\n",
       "      <th>3615054</th>\n",
       "      <td>3</td>\n",
       "      <td>3</td>\n",
       "      <td>27410</td>\n",
       "      <td>12</td>\n",
       "      <td>2352</td>\n",
       "      <td>20481</td>\n",
       "      <td>0.000000</td>\n",
       "      <td>24</td>\n",
       "      <td>0.199696</td>\n",
       "      <td>6</td>\n",
       "      <td>0.199696</td>\n",
       "      <td>100</td>\n",
       "      <td>25.038057</td>\n",
       "      <td>30.045670</td>\n",
       "      <td>0.199696</td>\n",
       "      <td>3</td>\n",
       "      <td>4</td>\n",
       "    </tr>\n",
       "    <tr>\n",
       "      <th>912034</th>\n",
       "      <td>4</td>\n",
       "      <td>1</td>\n",
       "      <td>32031</td>\n",
       "      <td>16</td>\n",
       "      <td>4241</td>\n",
       "      <td>32601</td>\n",
       "      <td>0.449179</td>\n",
       "      <td>100</td>\n",
       "      <td>1.380450</td>\n",
       "      <td>4</td>\n",
       "      <td>2.384421</td>\n",
       "      <td>100</td>\n",
       "      <td>0.000000</td>\n",
       "      <td>0.404534</td>\n",
       "      <td>2.605609</td>\n",
       "      <td>1</td>\n",
       "      <td>6</td>\n",
       "    </tr>\n",
       "    <tr>\n",
       "      <th>2576453</th>\n",
       "      <td>3</td>\n",
       "      <td>2</td>\n",
       "      <td>13925</td>\n",
       "      <td>12</td>\n",
       "      <td>4241</td>\n",
       "      <td>138767</td>\n",
       "      <td>0.102594</td>\n",
       "      <td>80</td>\n",
       "      <td>0.000000</td>\n",
       "      <td>1</td>\n",
       "      <td>0.051297</td>\n",
       "      <td>100</td>\n",
       "      <td>0.000000</td>\n",
       "      <td>0.113870</td>\n",
       "      <td>0.256485</td>\n",
       "      <td>0</td>\n",
       "      <td>5</td>\n",
       "    </tr>\n",
       "    <tr>\n",
       "      <th>158995</th>\n",
       "      <td>3</td>\n",
       "      <td>1</td>\n",
       "      <td>53337</td>\n",
       "      <td>16</td>\n",
       "      <td>4241</td>\n",
       "      <td>157519</td>\n",
       "      <td>0.000000</td>\n",
       "      <td>100</td>\n",
       "      <td>0.000000</td>\n",
       "      <td>3</td>\n",
       "      <td>0.000000</td>\n",
       "      <td>100</td>\n",
       "      <td>0.000000</td>\n",
       "      <td>0.121890</td>\n",
       "      <td>0.000000</td>\n",
       "      <td>1</td>\n",
       "      <td>5</td>\n",
       "    </tr>\n",
       "    <tr>\n",
       "      <th>86970</th>\n",
       "      <td>3</td>\n",
       "      <td>4</td>\n",
       "      <td>2496</td>\n",
       "      <td>12</td>\n",
       "      <td>4241</td>\n",
       "      <td>85494</td>\n",
       "      <td>0.030978</td>\n",
       "      <td>44</td>\n",
       "      <td>0.059693</td>\n",
       "      <td>1</td>\n",
       "      <td>0.090670</td>\n",
       "      <td>44</td>\n",
       "      <td>0.039643</td>\n",
       "      <td>0.118930</td>\n",
       "      <td>0.121648</td>\n",
       "      <td>1</td>\n",
       "      <td>5</td>\n",
       "    </tr>\n",
       "  </tbody>\n",
       "</table>\n",
       "</div>"
      ],
      "text/plain": [
       "         proto  saddr  sport  daddr  dport     seq    stddev  \\\n",
       "3615054      3      3  27410     12   2352   20481  0.000000   \n",
       "912034       4      1  32031     16   4241   32601  0.449179   \n",
       "2576453      3      2  13925     12   4241  138767  0.102594   \n",
       "158995       3      1  53337     16   4241  157519  0.000000   \n",
       "86970        3      4   2496     12   4241   85494  0.030978   \n",
       "\n",
       "         N_IN_Conn_P_SrcIP       min  state_number      mean  \\\n",
       "3615054                 24  0.199696             6  0.199696   \n",
       "912034                 100  1.380450             4  2.384421   \n",
       "2576453                 80  0.000000             1  0.051297   \n",
       "158995                 100  0.000000             3  0.000000   \n",
       "86970                   44  0.059693             1  0.090670   \n",
       "\n",
       "         N_IN_Conn_P_DstIP      drate      srate       max  category  \\\n",
       "3615054                100  25.038057  30.045670  0.199696         3   \n",
       "912034                 100   0.000000   0.404534  2.605609         1   \n",
       "2576453                100   0.000000   0.113870  0.256485         0   \n",
       "158995                 100   0.000000   0.121890  0.000000         1   \n",
       "86970                   44   0.039643   0.118930  0.121648         1   \n",
       "\n",
       "         subcategory  \n",
       "3615054            4  \n",
       "912034             6  \n",
       "2576453            5  \n",
       "158995             5  \n",
       "86970              5  "
      ]
     },
     "execution_count": 27,
     "metadata": {},
     "output_type": "execute_result"
    }
   ],
   "source": [
    "X.head()\n"
   ]
  },
  {
   "cell_type": "markdown",
   "id": "dbf37864-5e4d-4e52-9213-3f6b1b4ec63a",
   "metadata": {},
   "source": [
    "### Separando dados de treino e teste"
   ]
  },
  {
   "cell_type": "code",
   "execution_count": 53,
   "id": "7526fbe4-8f10-4886-8c4d-11773170260e",
   "metadata": {},
   "outputs": [
    {
     "name": "stdout",
     "output_type": "stream",
     "text": [
      "Tamanho do conjunto de treino: 880445 amostras\n",
      "Tamanho do conjunto de teste: 220112 amostras\n"
     ]
    }
   ],
   "source": [
    "from sklearn.model_selection import train_test_split\n",
    "\n",
    "# Dividir os dados em treino e teste\n",
    "X_train, X_test, y_train, y_test = train_test_split(X, y, test_size=0.2, random_state=42)\n",
    "\n",
    "print(f\"Tamanho do conjunto de treino: {X_train.shape[0]} amostras\")\n",
    "print(f\"Tamanho do conjunto de teste: {X_test.shape[0]} amostras\")"
   ]
  },
  {
   "cell_type": "markdown",
   "id": "2c6e5f4c-da24-4b48-9b1e-cb70a17fd970",
   "metadata": {},
   "source": [
    "### Normalização"
   ]
  },
  {
   "cell_type": "code",
   "execution_count": 54,
   "id": "bcab5e48-ae62-419d-ad66-074e159167d4",
   "metadata": {},
   "outputs": [],
   "source": [
    "from sklearn.preprocessing import StandardScaler\n",
    "\n",
    "# Aplicar StandardScaler para normalizar as colunas numéricas\n",
    "scaler = StandardScaler()\n",
    "X_train = scaler.fit_transform(X_train)\n",
    "X_test = scaler.transform(X_test)"
   ]
  },
  {
   "cell_type": "markdown",
   "id": "cbf8dd49-cfcb-4738-b33d-c39c9d138b00",
   "metadata": {},
   "source": [
    "## Classificação com Multi-Layer Perceptron (MLP)"
   ]
  },
  {
   "cell_type": "code",
   "execution_count": 31,
   "id": "1bd42968-9bdf-4b0c-addd-529cbda45637",
   "metadata": {},
   "outputs": [
    {
     "name": "stdout",
     "output_type": "stream",
     "text": [
      "Matriz de Confusão:\n",
      "[[    40      0]\n",
      " [     2 220070]]\n",
      "\n",
      "Relatório de Classificação:\n",
      "              precision    recall  f1-score   support\n",
      "\n",
      "           0       0.95      1.00      0.98        40\n",
      "           1       1.00      1.00      1.00    220072\n",
      "\n",
      "    accuracy                           1.00    220112\n",
      "   macro avg       0.98      1.00      0.99    220112\n",
      "weighted avg       1.00      1.00      1.00    220112\n",
      "\n"
     ]
    }
   ],
   "source": [
    "from sklearn.neural_network import MLPClassifier\n",
    "from sklearn.metrics import classification_report, confusion_matrix\n",
    "\n",
    "mlp = MLPClassifier(hidden_layer_sizes=(10, 5, 2), max_iter=300, random_state=42)\n",
    "mlp.fit(X_train, y_train)\n",
    "\n",
    "# Fazer previsões\n",
    "y_pred = mlp.predict(X_test)\n",
    "\n",
    "# Avaliar o modelo\n",
    "print(\"Matriz de Confusão:\")\n",
    "print(confusion_matrix(y_test, y_pred))\n",
    "\n",
    "print(\"\\nRelatório de Classificação:\")\n",
    "print(classification_report(y_test, y_pred))"
   ]
  },
  {
   "cell_type": "markdown",
   "id": "84bc6556-b47a-4ac9-ae42-80bbfa055503",
   "metadata": {},
   "source": [
    "### Avaliando diferentes arquiteturas"
   ]
  },
  {
   "cell_type": "code",
   "execution_count": 32,
   "id": "409c6481-80e8-41ce-8c8e-831be9807981",
   "metadata": {},
   "outputs": [
    {
     "name": "stdout",
     "output_type": "stream",
     "text": [
      "Fitting 3 folds for each of 3 candidates, totalling 9 fits\n",
      "Melhores Parâmetros: {'hidden_layer_sizes': (10, 5, 2)}\n",
      "\n",
      "Matriz de Confusão:\n",
      "[[    40      0]\n",
      " [     2 220070]]\n",
      "\n",
      "Relatório de Classificação:\n",
      "              precision    recall  f1-score   support\n",
      "\n",
      "           0       0.95      1.00      0.98        40\n",
      "           1       1.00      1.00      1.00    220072\n",
      "\n",
      "    accuracy                           1.00    220112\n",
      "   macro avg       0.98      1.00      0.99    220112\n",
      "weighted avg       1.00      1.00      1.00    220112\n",
      "\n"
     ]
    }
   ],
   "source": [
    "from sklearn.model_selection import GridSearchCV\n",
    "\n",
    "# Definir os parâmetros para a busca em grade\n",
    "param_grid = {\n",
    "    'hidden_layer_sizes': [\n",
    "        (10, 5, 2), \n",
    "        (50, 25, 10), \n",
    "        (100, 50, 20)\n",
    "    ]\n",
    "}\n",
    "\n",
    "# Configurar o GridSearchCV\n",
    "grid_search = GridSearchCV(MLPClassifier(max_iter=300, random_state=42), param_grid, cv=3, scoring='accuracy', verbose=2, n_jobs=-1)\n",
    "\n",
    "# Treinar o modelo\n",
    "grid_search.fit(X_train, y_train)\n",
    "\n",
    "# Obter os melhores parâmetros e o melhor estimador\n",
    "best_params = grid_search.best_params_\n",
    "best_estimator = grid_search.best_estimator_\n",
    "\n",
    "# Fazer previsões com o melhor modelo\n",
    "y_pred = best_estimator.predict(X_test)\n",
    "\n",
    "# Avaliar o modelo\n",
    "print(\"Melhores Parâmetros:\", best_params)\n",
    "print(\"\\nMatriz de Confusão:\")\n",
    "print(confusion_matrix(y_test, y_pred))\n",
    "\n",
    "print(\"\\nRelatório de Classificação:\")\n",
    "print(classification_report(y_test, y_pred))"
   ]
  },
  {
   "cell_type": "code",
   "execution_count": 35,
   "id": "0ef69283-97ba-4a89-a6cd-e3d9010152bc",
   "metadata": {},
   "outputs": [
    {
     "data": {
      "image/png": "[encoded data removed]",
      "text/plain": [
       "<Figure size 1200x600 with 1 Axes>"
      ]
     },
     "metadata": {},
     "output_type": "display_data"
    },
    {
     "name": "stdout",
     "output_type": "stream",
     "text": [
      "[CV] END ......................hidden_layer_sizes=(10, 5, 2); total time=  13.1s\n",
      "[CV] END ......................hidden_layer_sizes=(10, 5, 2); total time=  18.4s\n",
      "[CV] END ....................hidden_layer_sizes=(50, 25, 10); total time=  18.7s\n",
      "[CV] END ....................hidden_layer_sizes=(50, 25, 10); total time=  19.0s\n",
      "[CV] END ......................hidden_layer_sizes=(10, 5, 2); total time=  24.0s\n",
      "[CV] END ....................hidden_layer_sizes=(50, 25, 10); total time=  26.3s\n",
      "[CV] END ...................hidden_layer_sizes=(100, 50, 20); total time=  32.5s\n",
      "[CV] END ...................hidden_layer_sizes=(100, 50, 20); total time=  35.8s\n",
      "[CV] END ...................hidden_layer_sizes=(100, 50, 20); total time=  36.7s\n"
     ]
    }
   ],
   "source": [
    "import matplotlib.pyplot as plt\n",
    "\n",
    "results = pd.DataFrame(grid_search.cv_results_)\n",
    "\n",
    "plt.figure(figsize=(12, 6))\n",
    "means = results['mean_test_score']\n",
    "stds = results['std_test_score']\n",
    "params = results['param_hidden_layer_sizes']\n",
    "\n",
    "plt.errorbar(range(len(params)), means, yerr=stds, fmt='o')\n",
    "plt.xticks(range(len(params)), params, rotation=45)\n",
    "plt.xlabel('Configurações de hidden_layer_sizes')\n",
    "plt.ylabel('Acurácia')\n",
    "plt.title('Resultados da Busca em Grade de MLPClassifier')\n",
    "plt.grid(True)\n",
    "plt.tight_layout()\n",
    "plt.show()"
   ]
  },
  {
   "cell_type": "markdown",
   "id": "6d6059e8-f047-4f39-a728-8af12f0f041d",
   "metadata": {},
   "source": [
    "### Visualização da matrix de confusão\n"
   ]
  },
  {
   "cell_type": "code",
   "execution_count": 37,
   "id": "41898307-947c-4464-adaf-d8e91be59612",
   "metadata": {},
   "outputs": [
    {
     "data": {
      "image/png": "[encoded data removed]",
      "text/plain": [
       "<Figure size 640x480 with 2 Axes>"
      ]
     },
     "metadata": {},
     "output_type": "display_data"
    }
   ],
   "source": [
    "from sklearn.metrics import ConfusionMatrixDisplay\n",
    "\n",
    "cm = confusion_matrix(y_test, y_pred)\n",
    "disp = ConfusionMatrixDisplay(confusion_matrix=cm)\n",
    "disp.plot(cmap=plt.cm.Blues)\n",
    "plt.title('Matriz de Confusão - Melhor Modelo MLP')\n",
    "plt.show()"
   ]
  },
  {
   "cell_type": "markdown",
   "id": "87ca5886-d2ec-4ae6-805d-9d5c5725e54c",
   "metadata": {},
   "source": [
    "## Classificação com Deep Neural Network (DNN)"
   ]
  },
  {
   "cell_type": "code",
   "execution_count": 55,
   "id": "723c43f2-b053-4b17-9394-ea3de6103a86",
   "metadata": {},
   "outputs": [
    {
     "name": "stdout",
     "output_type": "stream",
     "text": [
      "Epoch 1/30\n"
     ]
    },
    {
     "name": "stderr",
     "output_type": "stream",
     "text": [
      "/home/gvicentin/labs/jupyter/.venv/lib/python3.12/site-packages/keras/src/layers/core/dense.py:87: UserWarning: Do not pass an `input_shape`/`input_dim` argument to a layer. When using Sequential models, prefer using an `Input(shape)` object as the first layer in the model instead.\n",
      "  super().__init__(activity_regularizer=activity_regularizer, **kwargs)\n"
     ]
    },
    {
     "name": "stdout",
     "output_type": "stream",
     "text": [
      "\u001b[1m22012/22012\u001b[0m \u001b[32m━━━━━━━━━━━━━━━━━━━━\u001b[0m\u001b[37m\u001b[0m \u001b[1m10s\u001b[0m 448us/step - accuracy: 0.9987 - loss: 0.0086 - val_accuracy: 1.0000 - val_loss: 3.3707e-05\n",
      "Epoch 2/30\n",
      "\u001b[1m22012/22012\u001b[0m \u001b[32m━━━━━━━━━━━━━━━━━━━━\u001b[0m\u001b[37m\u001b[0m \u001b[1m10s\u001b[0m 440us/step - accuracy: 1.0000 - loss: 2.4896e-04 - val_accuracy: 1.0000 - val_loss: 8.0512e-06\n",
      "Epoch 3/30\n",
      "\u001b[1m22012/22012\u001b[0m \u001b[32m━━━━━━━━━━━━━━━━━━━━\u001b[0m\u001b[37m\u001b[0m \u001b[1m10s\u001b[0m 440us/step - accuracy: 1.0000 - loss: 2.3100e-04 - val_accuracy: 1.0000 - val_loss: 7.5849e-05\n",
      "Epoch 4/30\n",
      "\u001b[1m22012/22012\u001b[0m \u001b[32m━━━━━━━━━━━━━━━━━━━━\u001b[0m\u001b[37m\u001b[0m \u001b[1m10s\u001b[0m 442us/step - accuracy: 1.0000 - loss: 4.7068e-05 - val_accuracy: 1.0000 - val_loss: 4.3913e-05\n",
      "Epoch 5/30\n",
      "\u001b[1m22012/22012\u001b[0m \u001b[32m━━━━━━━━━━━━━━━━━━━━\u001b[0m\u001b[37m\u001b[0m \u001b[1m10s\u001b[0m 441us/step - accuracy: 1.0000 - loss: 2.1907e-04 - val_accuracy: 1.0000 - val_loss: 1.5859e-04\n",
      "Epoch 6/30\n",
      "\u001b[1m22012/22012\u001b[0m \u001b[32m━━━━━━━━━━━━━━━━━━━━\u001b[0m\u001b[37m\u001b[0m \u001b[1m10s\u001b[0m 439us/step - accuracy: 1.0000 - loss: 1.4982e-04 - val_accuracy: 1.0000 - val_loss: 8.1218e-05\n",
      "Epoch 7/30\n",
      "\u001b[1m22012/22012\u001b[0m \u001b[32m━━━━━━━━━━━━━━━━━━━━\u001b[0m\u001b[37m\u001b[0m \u001b[1m10s\u001b[0m 445us/step - accuracy: 1.0000 - loss: 0.0011 - val_accuracy: 1.0000 - val_loss: 9.8335e-05\n",
      "Epoch 8/30\n",
      "\u001b[1m22012/22012\u001b[0m \u001b[32m━━━━━━━━━━━━━━━━━━━━\u001b[0m\u001b[37m\u001b[0m \u001b[1m10s\u001b[0m 439us/step - accuracy: 1.0000 - loss: 1.2302e-04 - val_accuracy: 1.0000 - val_loss: 1.8367e-04\n",
      "Epoch 9/30\n",
      "\u001b[1m22012/22012\u001b[0m \u001b[32m━━━━━━━━━━━━━━━━━━━━\u001b[0m\u001b[37m\u001b[0m \u001b[1m10s\u001b[0m 438us/step - accuracy: 1.0000 - loss: 0.0010 - val_accuracy: 1.0000 - val_loss: 4.8971e-04\n",
      "Epoch 10/30\n",
      "\u001b[1m22012/22012\u001b[0m \u001b[32m━━━━━━━━━━━━━━━━━━━━\u001b[0m\u001b[37m\u001b[0m \u001b[1m10s\u001b[0m 445us/step - accuracy: 1.0000 - loss: 1.0460e-04 - val_accuracy: 1.0000 - val_loss: 3.8636e-04\n",
      "Epoch 11/30\n",
      "\u001b[1m22012/22012\u001b[0m \u001b[32m━━━━━━━━━━━━━━━━━━━━\u001b[0m\u001b[37m\u001b[0m \u001b[1m10s\u001b[0m 442us/step - accuracy: 1.0000 - loss: 1.0238e-04 - val_accuracy: 1.0000 - val_loss: 2.9996e-09\n",
      "Epoch 12/30\n",
      "\u001b[1m22012/22012\u001b[0m \u001b[32m━━━━━━━━━━━━━━━━━━━━\u001b[0m\u001b[37m\u001b[0m \u001b[1m10s\u001b[0m 442us/step - accuracy: 1.0000 - loss: 8.6090e-05 - val_accuracy: 1.0000 - val_loss: 2.3326e-05\n",
      "Epoch 13/30\n",
      "\u001b[1m22012/22012\u001b[0m \u001b[32m━━━━━━━━━━━━━━━━━━━━\u001b[0m\u001b[37m\u001b[0m \u001b[1m10s\u001b[0m 442us/step - accuracy: 1.0000 - loss: 7.5882e-05 - val_accuracy: 1.0000 - val_loss: 2.7014e-05\n",
      "Epoch 14/30\n",
      "\u001b[1m22012/22012\u001b[0m \u001b[32m━━━━━━━━━━━━━━━━━━━━\u001b[0m\u001b[37m\u001b[0m \u001b[1m10s\u001b[0m 441us/step - accuracy: 1.0000 - loss: 5.6843e-04 - val_accuracy: 1.0000 - val_loss: 4.3258e-04\n",
      "Epoch 15/30\n",
      "\u001b[1m22012/22012\u001b[0m \u001b[32m━━━━━━━━━━━━━━━━━━━━\u001b[0m\u001b[37m\u001b[0m \u001b[1m10s\u001b[0m 443us/step - accuracy: 1.0000 - loss: 1.4088e-04 - val_accuracy: 1.0000 - val_loss: 1.0121e-04\n",
      "Epoch 16/30\n",
      "\u001b[1m22012/22012\u001b[0m \u001b[32m━━━━━━━━━━━━━━━━━━━━\u001b[0m\u001b[37m\u001b[0m \u001b[1m10s\u001b[0m 444us/step - accuracy: 1.0000 - loss: 2.4472e-05 - val_accuracy: 1.0000 - val_loss: 4.7821e-05\n",
      "Epoch 17/30\n",
      "\u001b[1m22012/22012\u001b[0m \u001b[32m━━━━━━━━━━━━━━━━━━━━\u001b[0m\u001b[37m\u001b[0m \u001b[1m10s\u001b[0m 443us/step - accuracy: 1.0000 - loss: 5.5068e-06 - val_accuracy: 1.0000 - val_loss: 3.3106e-04\n",
      "Epoch 18/30\n",
      "\u001b[1m22012/22012\u001b[0m \u001b[32m━━━━━━━━━━━━━━━━━━━━\u001b[0m\u001b[37m\u001b[0m \u001b[1m10s\u001b[0m 442us/step - accuracy: 1.0000 - loss: 1.0927e-04 - val_accuracy: 1.0000 - val_loss: 2.8841e-05\n",
      "Epoch 19/30\n",
      "\u001b[1m22012/22012\u001b[0m \u001b[32m━━━━━━━━━━━━━━━━━━━━\u001b[0m\u001b[37m\u001b[0m \u001b[1m10s\u001b[0m 442us/step - accuracy: 1.0000 - loss: 1.4869e-04 - val_accuracy: 1.0000 - val_loss: 5.6741e-04\n",
      "Epoch 20/30\n",
      "\u001b[1m22012/22012\u001b[0m \u001b[32m━━━━━━━━━━━━━━━━━━━━\u001b[0m\u001b[37m\u001b[0m \u001b[1m10s\u001b[0m 442us/step - accuracy: 1.0000 - loss: 1.5203e-05 - val_accuracy: 1.0000 - val_loss: 3.2178e-05\n",
      "Epoch 21/30\n",
      "\u001b[1m22012/22012\u001b[0m \u001b[32m━━━━━━━━━━━━━━━━━━━━\u001b[0m\u001b[37m\u001b[0m \u001b[1m10s\u001b[0m 441us/step - accuracy: 1.0000 - loss: 1.3860e-09 - val_accuracy: 1.0000 - val_loss: 8.7500e-09\n",
      "Epoch 22/30\n",
      "\u001b[1m22012/22012\u001b[0m \u001b[32m━━━━━━━━━━━━━━━━━━━━\u001b[0m\u001b[37m\u001b[0m \u001b[1m10s\u001b[0m 443us/step - accuracy: 1.0000 - loss: 2.0598e-05 - val_accuracy: 1.0000 - val_loss: 1.0567e-04\n",
      "Epoch 23/30\n",
      "\u001b[1m22012/22012\u001b[0m \u001b[32m━━━━━━━━━━━━━━━━━━━━\u001b[0m\u001b[37m\u001b[0m \u001b[1m10s\u001b[0m 441us/step - accuracy: 1.0000 - loss: 1.4019e-05 - val_accuracy: 1.0000 - val_loss: 8.1447e-05\n",
      "Epoch 24/30\n",
      "\u001b[1m22012/22012\u001b[0m \u001b[32m━━━━━━━━━━━━━━━━━━━━\u001b[0m\u001b[37m\u001b[0m \u001b[1m10s\u001b[0m 441us/step - accuracy: 1.0000 - loss: 4.2414e-06 - val_accuracy: 1.0000 - val_loss: 8.6733e-05\n",
      "Epoch 25/30\n",
      "\u001b[1m22012/22012\u001b[0m \u001b[32m━━━━━━━━━━━━━━━━━━━━\u001b[0m\u001b[37m\u001b[0m \u001b[1m10s\u001b[0m 442us/step - accuracy: 1.0000 - loss: 6.0761e-05 - val_accuracy: 1.0000 - val_loss: 5.7255e-06\n",
      "Epoch 26/30\n",
      "\u001b[1m22012/22012\u001b[0m \u001b[32m━━━━━━━━━━━━━━━━━━━━\u001b[0m\u001b[37m\u001b[0m \u001b[1m10s\u001b[0m 441us/step - accuracy: 1.0000 - loss: 1.2855e-04 - val_accuracy: 1.0000 - val_loss: 6.5932e-05\n",
      "Epoch 27/30\n",
      "\u001b[1m22012/22012\u001b[0m \u001b[32m━━━━━━━━━━━━━━━━━━━━\u001b[0m\u001b[37m\u001b[0m \u001b[1m10s\u001b[0m 441us/step - accuracy: 1.0000 - loss: 1.5770e-04 - val_accuracy: 1.0000 - val_loss: 2.6303e-08\n",
      "Epoch 28/30\n",
      "\u001b[1m22012/22012\u001b[0m \u001b[32m━━━━━━━━━━━━━━━━━━━━\u001b[0m\u001b[37m\u001b[0m \u001b[1m10s\u001b[0m 442us/step - accuracy: 1.0000 - loss: 7.1160e-05 - val_accuracy: 1.0000 - val_loss: 6.9083e-05\n",
      "Epoch 29/30\n",
      "\u001b[1m22012/22012\u001b[0m \u001b[32m━━━━━━━━━━━━━━━━━━━━\u001b[0m\u001b[37m\u001b[0m \u001b[1m10s\u001b[0m 445us/step - accuracy: 1.0000 - loss: 6.7117e-10 - val_accuracy: 1.0000 - val_loss: 9.3140e-05\n",
      "Epoch 30/30\n",
      "\u001b[1m22012/22012\u001b[0m \u001b[32m━━━━━━━━━━━━━━━━━━━━\u001b[0m\u001b[37m\u001b[0m \u001b[1m10s\u001b[0m 467us/step - accuracy: 1.0000 - loss: 1.9221e-05 - val_accuracy: 1.0000 - val_loss: 5.9419e-05\n"
     ]
    }
   ],
   "source": [
    "import tensorflow as tf\n",
    "from tensorflow.keras.models import Sequential\n",
    "from tensorflow.keras.layers import Dense\n",
    "from tensorflow.keras.utils import to_categorical\n",
    "from sklearn.preprocessing import StandardScaler\n",
    "from sklearn.metrics import classification_report\n",
    "\n",
    "y_train = to_categorical(y_train)\n",
    "y_test = to_categorical(y_test)\n",
    "\n",
    "model = Sequential()\n",
    "model.add(Dense(64, input_shape=(X_train.shape[1],), activation='relu'))\n",
    "model.add(Dense(64, activation='relu'))\n",
    "model.add(Dense(y_train.shape[1], activation='softmax'))\n",
    "\n",
    "# Compilar o modelo\n",
    "model.compile(optimizer='adam', loss='categorical_crossentropy', metrics=['accuracy'])\n",
    "\n",
    "# Treinar o modelo\n",
    "history = model.fit(X_train, y_train, epochs=30, batch_size=32, validation_split=0.2)\n",
    "\n"
   ]
  },
  {
   "cell_type": "markdown",
   "id": "fe766df2-3432-49af-b480-d18459b1d0cc",
   "metadata": {},
   "source": [
    "### Teste de acurácia"
   ]
  },
  {
   "cell_type": "code",
   "execution_count": 56,
   "id": "5c9846df-e0c9-4448-9c3f-5efc714f84fd",
   "metadata": {},
   "outputs": [
    {
     "name": "stdout",
     "output_type": "stream",
     "text": [
      "\u001b[1m6879/6879\u001b[0m \u001b[32m━━━━━━━━━━━━━━━━━━━━\u001b[0m\u001b[37m\u001b[0m \u001b[1m2s\u001b[0m 302us/step - accuracy: 1.0000 - loss: 1.8463e-04\n",
      "Test Accuracy: 0.9999772906303406\n",
      "\u001b[1m6879/6879\u001b[0m \u001b[32m━━━━━━━━━━━━━━━━━━━━\u001b[0m\u001b[37m\u001b[0m \u001b[1m2s\u001b[0m 332us/step\n",
      "              precision    recall  f1-score   support\n",
      "\n",
      "           0       0.95      0.93      0.94        40\n",
      "           1       1.00      1.00      1.00    220072\n",
      "\n",
      "    accuracy                           1.00    220112\n",
      "   macro avg       0.97      0.96      0.97    220112\n",
      "weighted avg       1.00      1.00      1.00    220112\n",
      "\n"
     ]
    }
   ],
   "source": [
    "loss, accuracy = model.evaluate(X_test, y_test)\n",
    "print(f'Test Accuracy: {accuracy}')\n",
    "\n",
    "y_pred = model.predict(X_test)\n",
    "y_pred_classes = y_pred.argmax(axis=1)\n",
    "y_true = y_test.argmax(axis=1)\n",
    "\n",
    "print(classification_report(y_true, y_pred_classes))"
   ]
  },
  {
   "cell_type": "markdown",
   "id": "7b384e5b-9e10-4a6d-b74a-b1a00131eb56",
   "metadata": {},
   "source": [
    "### Gráfico de evolução do treinamento"
   ]
  },
  {
   "cell_type": "code",
   "execution_count": 57,
   "id": "26567c4e-94b3-4e9a-9236-41f017e29b06",
   "metadata": {},
   "outputs": [
    {
     "data": {
      "image/png": "[encoded data removed]",
      "text/plain": [
       "<Figure size 640x480 with 1 Axes>"
      ]
     },
     "metadata": {},
     "output_type": "display_data"
    }
   ],
   "source": [
    "import matplotlib.pyplot as plt\n",
    "\n",
    "plt.plot(history.history['accuracy'], label='acurácia treino')\n",
    "plt.plot(history.history['val_accuracy'], label='acurácia valor')\n",
    "plt.xlabel('Geração')\n",
    "plt.ylabel('Acurácia')\n",
    "plt.legend()\n",
    "plt.show()"
   ]
  },
  {
   "cell_type": "markdown",
   "id": "dc6f3820-2978-4da8-924c-bfe99be18f9a",
   "metadata": {},
   "source": [
    "## Comparação dos resultados"
   ]
  },
  {
   "cell_type": "markdown",
   "id": "d44e70a7-fac8-4318-baba-cc863028f313",
   "metadata": {},
   "source": [
    "Ambos modelos utilizados no trabalho final da disciplina de Deep Learning apresentaram desempenho excelente na classificação dos dados, com resultados semelhandtes. "
   ]
  },
  {
   "cell_type": "markdown",
   "id": "bf004434-6ee3-4700-ab95-ad8fe187d2ed",
   "metadata": {},
   "source": [
    "### Acurácia"
   ]
  },
  {
   "cell_type": "markdown",
   "id": "98408caf-0eef-4f6d-9ffb-31fd1c98d992",
   "metadata": {},
   "source": [
    "Ambos os modelos alcançaram uma acurácia de 1.00, o que significa que foram capazes de prever corretamente todas as amostras nos dados de teste."
   ]
  },
  {
   "cell_type": "markdown",
   "id": "1f302497-a470-4e11-a1e2-4dc2cee07bc8",
   "metadata": {},
   "source": [
    "### Precisão e Recall"
   ]
  },
  {
   "cell_type": "markdown",
   "id": "c8b7bdcc-d75b-4d99-a6d1-f343e96653a0",
   "metadata": {},
   "source": [
    "Ambos os modelos (DNN e MLP) obtiveram resultados muito próximos em precision (0.95) e recall (1.00) para a classe 0. Isso indica que ambos os modelos são capazes de identificar corretamente a classe 0 na maioria das vezes quando ela está presente.\n",
    "Para a classe 1, ambos os modelos apresentaram resultados excelentes com precision e recall de 1.00"
   ]
  },
  {
   "cell_type": "markdown",
   "id": "a1111a05-e84f-472a-9b41-58983b1e6598",
   "metadata": {},
   "source": [
    "### F1-Score"
   ]
  },
  {
   "cell_type": "markdown",
   "id": "51b7193f-0749-4c70-b7cc-3195befe0f44",
   "metadata": {},
   "source": [
    "O F1-score é a média harmônica de precision e recall, e ambos os modelos apresentaram valores muito altos (próximos de 1.00) para ambas as classes, o que indica um bom equilíbrio entre precision e recall."
   ]
  },
  {
   "cell_type": "markdown",
   "id": "7104a29d-6edb-4c38-86b3-5c8af922b441",
   "metadata": {},
   "source": [
    "### Macro avg e Weighted avg"
   ]
  },
  {
   "cell_type": "markdown",
   "id": "1c61d023-2cd7-47e1-b310-f315f25b5c53",
   "metadata": {},
   "source": [
    "As médias macro e ponderada das métricas (precision, recall, F1-score) para ambas as classes são consistentemente altas para ambos os modelos, sugerindo que eles têm um desempenho robusto e consistente em todas as métricas avaliadas."
   ]
  }
 ],
 "metadata": {
  "kernelspec": {
   "display_name": "Python 3 (ipykernel)",
   "language": "python",
   "name": "python3"
  },
  "language_info": {
   "codemirror_mode": {
    "name": "ipython",
    "version": 3
   },
   "file_extension": ".py",
   "mimetype": "text/x-python",
   "name": "python",
   "nbconvert_exporter": "python",
   "pygments_lexer": "ipython3",
   "version": "3.12.3"
  }
 },
 "nbformat": 4,
 "nbformat_minor": 5
}
